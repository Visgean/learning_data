{
 "cells": [
  {
   "cell_type": "markdown",
   "metadata": {},
   "source": [
    "# Recommendation systems - lab2"
   ]
  },
  {
   "cell_type": "code",
   "execution_count": 1,
   "metadata": {},
   "outputs": [],
   "source": [
    "import numpy as np\n",
    "np.set_printoptions(precision=2)"
   ]
  },
  {
   "cell_type": "code",
   "execution_count": 2,
   "metadata": {},
   "outputs": [],
   "source": [
    "data = \"\"\"\n",
    "3\t7\t4\t9\t9\t7\n",
    "7\t5\t5\t3\t8\t8\n",
    "7\t5\t5\t0\t8\t4\n",
    "5\t6\t8\t5\t9\t8\n",
    "5\t8\t8\t8\t10\t9\n",
    "7\t7\t8\t4\t7\t8\n",
    "\"\"\"\n",
    "\n",
    "ratings = np.fromstring(data, sep='\\t').reshape(6,6)"
   ]
  },
  {
   "cell_type": "code",
   "execution_count": 3,
   "metadata": {},
   "outputs": [
    {
     "data": {
      "text/plain": [
       "array([3., 7., 4., 9., 9., 7.])"
      ]
     },
     "execution_count": 3,
     "metadata": {},
     "output_type": "execute_result"
    }
   ],
   "source": [
    "ratings[0] # row 0"
   ]
  },
  {
   "cell_type": "code",
   "execution_count": 4,
   "metadata": {},
   "outputs": [
    {
     "data": {
      "text/plain": [
       "3.0"
      ]
     },
     "execution_count": 4,
     "metadata": {},
     "output_type": "execute_result"
    }
   ],
   "source": [
    "import math\n",
    "\n",
    "def euclid_dist(u, v):\n",
    "    #return math.sqrt(sum(map(lambda x: x**2, u-v)))\n",
    "    return np.linalg.norm(u-v)\n",
    "\n",
    "v = np.array([2, 3, 5, 7, 8])\n",
    "u = np.array([2, 5, 7, 8, 8])\n",
    "euclid_dist(u, v)"
   ]
  },
  {
   "cell_type": "markdown",
   "metadata": {},
   "source": [
    "Compute the Euclidean distance between a row vector 1 X N and an\n",
    "M x N matrix"
   ]
  },
  {
   "cell_type": "code",
   "execution_count": 5,
   "metadata": {},
   "outputs": [
    {
     "data": {
      "text/plain": [
       "array([7.62, 8.89, 8.43, 2.  ])"
      ]
     },
     "execution_count": 5,
     "metadata": {},
     "output_type": "execute_result"
    }
   ],
   "source": [
    "A = np.array([\n",
    "\t[1, 4, 3, 3, 2],\n",
    "\t[3, 2, 1, 2, 2],\n",
    "\t[1, 3, 2, 2, 2],\n",
    "\t[1, 4, 5, 6, 7],\n",
    "])\n",
    "\n",
    "\n",
    "dist_from_v = lambda x: euclid_dist(v, x)\n",
    "np.apply_along_axis(dist_from_v, 1, A)"
   ]
  },
  {
   "cell_type": "markdown",
   "metadata": {},
   "source": [
    "# Plotting"
   ]
  },
  {
   "cell_type": "code",
   "execution_count": 6,
   "metadata": {},
   "outputs": [],
   "source": [
    "import matplotlib.pyplot as plt"
   ]
  },
  {
   "cell_type": "code",
   "execution_count": 7,
   "metadata": {},
   "outputs": [
    {
     "data": {
      "text/plain": [
       "array([4., 5., 5., 8., 8., 8.])"
      ]
     },
     "execution_count": 7,
     "metadata": {},
     "output_type": "execute_result"
    }
   ],
   "source": [
    "ratings[:,2] # 3d column"
   ]
  },
  {
   "cell_type": "code",
   "execution_count": 8,
   "metadata": {},
   "outputs": [
    {
     "data": {
      "text/plain": [
       "(-1, 10)"
      ]
     },
     "execution_count": 8,
     "metadata": {},
     "output_type": "execute_result"
    },
    {
     "data": {
      "image/png": "[encoded data removed]",
      "text/plain": [
       "<matplotlib.figure.Figure at 0x7f27a1c59ef0>"
      ]
     },
     "metadata": {},
     "output_type": "display_data"
    }
   ],
   "source": [
    "plt.scatter(ratings[:,3], ratings[:,5])\n",
    "plt.ylabel('Movie 4')\n",
    "plt.xlabel('Movie 6')\n",
    "plt.ylim(-1, 10)\n",
    "plt.xlim(-1, 10)"
   ]
  },
  {
   "cell_type": "markdown",
   "metadata": {},
   "source": [
    "Now they want us to create distances between critics and each other"
   ]
  },
  {
   "cell_type": "code",
   "execution_count": 9,
   "metadata": {},
   "outputs": [
    {
     "data": {
      "text/plain": [
       "array([[ 3.,  7.,  4.,  9.,  9.,  7.],\n",
       "       [ 7.,  5.,  5.,  3.,  8.,  8.],\n",
       "       [ 7.,  5.,  5.,  0.,  8.,  4.],\n",
       "       [ 5.,  6.,  8.,  5.,  9.,  8.],\n",
       "       [ 5.,  8.,  8.,  8., 10.,  9.],\n",
       "       [ 7.,  7.,  8.,  4.,  7.,  8.]])"
      ]
     },
     "execution_count": 9,
     "metadata": {},
     "output_type": "execute_result"
    }
   ],
   "source": [
    "ratings"
   ]
  },
  {
   "cell_type": "code",
   "execution_count": 10,
   "metadata": {},
   "outputs": [
    {
     "data": {
      "text/plain": [
       "array([3., 7., 4., 9., 9., 7.])"
      ]
     },
     "execution_count": 10,
     "metadata": {},
     "output_type": "execute_result"
    }
   ],
   "source": [
    "ratings[0]"
   ]
  },
  {
   "cell_type": "code",
   "execution_count": 11,
   "metadata": {},
   "outputs": [
    {
     "data": {
      "text/plain": [
       "array([[0, 1, 2],\n",
       "       [1, 2, 3],\n",
       "       [2, 3, 4]])"
      ]
     },
     "execution_count": 11,
     "metadata": {},
     "output_type": "execute_result"
    }
   ],
   "source": [
    "def inspect(i, j):   \n",
    "    return i+j\n",
    "\n",
    "\n",
    "np.fromfunction(np.vectorize(inspect), (3, 3), dtype=int)"
   ]
  },
  {
   "cell_type": "code",
   "execution_count": 12,
   "metadata": {},
   "outputs": [
    {
     "data": {
      "text/plain": [
       "array([[ 0.  ,  7.68, 10.58,  6.16,  5.2 ,  7.87],\n",
       "       [ 7.68,  0.  ,  5.  ,  4.36,  7.21,  3.87],\n",
       "       [10.58,  5.  ,  0.  ,  7.48, 10.72,  6.78],\n",
       "       [ 6.16,  4.36,  7.48,  0.  ,  3.87,  3.16],\n",
       "       [ 5.2 ,  7.21, 10.72,  3.87,  0.  ,  5.57],\n",
       "       [ 7.87,  3.87,  6.78,  3.16,  5.57,  0.  ]])"
      ]
     },
     "execution_count": 12,
     "metadata": {},
     "output_type": "execute_result"
    }
   ],
   "source": [
    "def get_distance(i, j):\n",
    "    return euclid_dist(ratings[i], ratings[j])\n",
    "    \n",
    "\n",
    "critic_dist = np.fromfunction(np.vectorize(get_distance), (6,6), dtype=int)\n",
    "critic_dist"
   ]
  },
  {
   "cell_type": "markdown",
   "metadata": {},
   "source": [
    "# Actual thing"
   ]
  },
  {
   "cell_type": "code",
   "execution_count": 13,
   "metadata": {},
   "outputs": [],
   "source": [
    "user_1 = np.array([None, None, None, 2, None, 7])\n",
    "user_2 = np.array([None, 6, 9, None, None, 6])"
   ]
  },
  {
   "cell_type": "code",
   "execution_count": 14,
   "metadata": {},
   "outputs": [
    {
     "data": {
      "text/plain": [
       "array([2, 7], dtype=object)"
      ]
     },
     "execution_count": 14,
     "metadata": {},
     "output_type": "execute_result"
    }
   ],
   "source": [
    "user_1[[3,5]]"
   ]
  },
  {
   "cell_type": "code",
   "execution_count": 15,
   "metadata": {},
   "outputs": [
    {
     "data": {
      "text/plain": [
       "7.0"
      ]
     },
     "execution_count": 15,
     "metadata": {},
     "output_type": "execute_result"
    }
   ],
   "source": [
    "def partial_apply(func, u, v):\n",
    "    \"\"\"\n",
    "        func(u, v) where u and v are columns with non-empty values\n",
    "    \"\"\"\n",
    "    \n",
    "    non_empty_columns = [i for i, x in enumerate(u) if x]\n",
    "    \n",
    "    u_filled = u[non_empty_columns]\n",
    "    v_filled = v[non_empty_columns]    \n",
    "    \n",
    "    return func(u_filled, v_filled)\n",
    "\n",
    "partial_apply(euclid_dist, user_1, ratings[0])"
   ]
  },
  {
   "cell_type": "code",
   "execution_count": 16,
   "metadata": {},
   "outputs": [
    {
     "data": {
      "text/plain": [
       "array([7.  , 1.41, 3.61, 3.16, 6.32, 2.24])"
      ]
     },
     "execution_count": 16,
     "metadata": {},
     "output_type": "execute_result"
    }
   ],
   "source": [
    "np.apply_along_axis(lambda x: partial_apply(euclid_dist, user_1, x), 1, ratings)"
   ]
  },
  {
   "cell_type": "markdown",
   "metadata": {},
   "source": [
    "# Similarity measure:"
   ]
  },
  {
   "cell_type": "code",
   "execution_count": 17,
   "metadata": {},
   "outputs": [
    {
     "data": {
      "text/plain": [
       "array([0.16, 0.18, 0.18, 0.31, 0.21, 0.29])"
      ]
     },
     "execution_count": 17,
     "metadata": {},
     "output_type": "execute_result"
    }
   ],
   "source": [
    "def sim(u, v):\n",
    "    return 1 / (1 + partial_apply(euclid_dist, u, v))\n",
    "\n",
    "\n",
    "# How similar are critics to user 2\n",
    "\n",
    "u2_sim = np.apply_along_axis(lambda x: sim(user_2, x), 1, ratings)\n",
    "u2_sim"
   ]
  },
  {
   "cell_type": "markdown",
   "metadata": {},
   "source": [
    "We want to multiply the rankings by the u2_sim - this way we get the score adjusted by how similar the user is to the critic."
   ]
  },
  {
   "cell_type": "code",
   "execution_count": 18,
   "metadata": {},
   "outputs": [
    {
     "data": {
      "text/plain": [
       "array([[0.48, 1.25, 0.72, 2.78, 1.9 , 2.03],\n",
       "       [1.13, 0.9 , 0.9 , 0.93, 1.69, 2.32],\n",
       "       [1.13, 0.9 , 0.9 , 0.  , 1.69, 1.16],\n",
       "       [0.81, 1.07, 1.43, 1.55, 1.9 , 2.32],\n",
       "       [0.81, 1.43, 1.43, 2.47, 2.11, 2.61],\n",
       "       [1.13, 1.25, 1.43, 1.24, 1.48, 2.32]])"
      ]
     },
     "execution_count": 18,
     "metadata": {},
     "output_type": "execute_result"
    }
   ],
   "source": [
    "u2_sim * ratings"
   ]
  },
  {
   "cell_type": "code",
   "execution_count": 19,
   "metadata": {},
   "outputs": [
    {
     "data": {
      "text/plain": [
       "array([ 5.49,  6.81,  6.81,  8.96, 10.76, 12.76])"
      ]
     },
     "execution_count": 19,
     "metadata": {},
     "output_type": "execute_result"
    }
   ],
   "source": [
    "# Now we want to sum the colums:\n",
    "\n",
    "recommendations_user_2 = np.apply_along_axis(sum, 0, u2_sim * ratings) \n",
    "recommendations_user_2"
   ]
  },
  {
   "cell_type": "code",
   "execution_count": 20,
   "metadata": {},
   "outputs": [
    {
     "data": {
      "text/plain": [
       "array([4.13, 5.12, 5.12, 6.74, 8.09, 9.59])"
      ]
     },
     "execution_count": 20,
     "metadata": {},
     "output_type": "execute_result"
    }
   ],
   "source": [
    "# Now we want to normalize them:\n",
    "recommendations_user_2 / sum(u2_sim)"
   ]
  },
  {
   "attachments": {
    "image.png": {
     "image/png": "[encoded data removed]"
    }
   },
   "cell_type": "markdown",
   "metadata": {},
   "source": [
    "this should be:\n",
    "![image.png](attachment:image.png)"
   ]
  },
  {
   "cell_type": "code",
   "execution_count": null,
   "metadata": {},
   "outputs": [],
   "source": [
    "\n",
    "\n",
    "\n",
    "\n",
    "\n",
    "\n",
    "\n",
    "\n",
    "\n",
    "\n",
    "\n",
    "\n",
    "\n",
    "\n",
    "\n",
    "\n",
    "\n",
    "\n",
    "\n",
    "\n",
    "\n",
    "\n",
    "\n",
    "\n",
    "\n",
    "\n",
    "\n",
    "\n",
    "\n",
    "\n",
    "\n",
    "\n",
    "\n",
    "\n",
    "\n",
    "\n"
   ]
  }
 ],
 "metadata": {
  "kernelspec": {
   "display_name": "Python 3",
   "language": "python",
   "name": "python3"
  },
  "language_info": {
   "codemirror_mode": {
    "name": "ipython",
    "version": 3
   },
   "file_extension": ".py",
   "mimetype": "text/x-python",
   "name": "python",
   "nbconvert_exporter": "python",
   "pygments_lexer": "ipython3",
   "version": "3.6.4"
  }
 },
 "nbformat": 4,
 "nbformat_minor": 2
}
